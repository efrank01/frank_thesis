{
 "cells": [
  {
   "cell_type": "code",
   "execution_count": 2,
   "metadata": {},
   "outputs": [
    {
     "name": "stdout",
     "output_type": "stream",
     "text": [
      "Populating the interactive namespace from numpy and matplotlib\n"
     ]
    }
   ],
   "source": [
    "%pylab inline\n",
    "from astropy.io import fits\n",
    "from astropy.io import ascii\n",
    "import numpy as np\n",
    "import matplotlib.pyplot as plt\n",
    "from astropy.table import Column, Table, vstack\n",
    "import tarfile\n",
    "import os\n",
    "import glob\n",
    "from pathlib import Path\n",
    "from scipy import interpolate\n",
    "from scipy.interpolate import InterpolatedUnivariateSpline\n",
    "import pdb"
   ]
  },
  {
   "cell_type": "code",
   "execution_count": 4,
   "metadata": {},
   "outputs": [
    {
     "name": "stdout",
     "output_type": "stream",
     "text": [
      "Filename: drpandHI_121by741.fits\n",
      "No.    Name      Ver    Type      Cards   Dimensions   Format\n",
      "  0  PRIMARY       1 PrimaryHDU      16   (9609,)   uint8   \n",
      "  1  Joined        1 BinTableHDU    274   741R x 121C   [11A, 32A, 32A, 32A, 32A, 32A, 32A, 32A, 32A, D, D, D, D, D, D, D, K, D, K, D, D, 53A, K, 32A, K, D, D, D, D, D, D, D, D, D, D, D, K, K, K, D, D, D, D, K, K, K, K, 32A, K, 19A, K, K, K, D, D, D, D, D, D, D, D, D, D, D, D, D, D, D, D, K, K, K, 6A, K, K, D, D, 7D, 7D, 7D, D, D, D, D, 7D, D, D, 7D, 7D, 7D, 7D, D, D, D, D, 7D, 7D, E, 79A, E, E, E, E, E, E, E, E, E, E, E, E, E, E, E, E, E, E, E, E, E, D]   \n",
      "ColDefs(\n",
      "    name = 'plateifu_1'; format = '11A'\n",
      "    name = 'mangaid_1'; format = '32A'\n",
      "    name = 'versdrp2_1'; format = '32A'\n",
      "    name = 'versdrp3'; format = '32A'\n",
      "    name = 'verscore_1'; format = '32A'\n",
      "    name = 'versutil_1'; format = '32A'\n",
      "    name = 'versprim_1'; format = '32A'\n",
      "    name = 'platetyp_1'; format = '32A'\n",
      "    name = 'srvymode_1'; format = '32A'\n",
      "    name = 'objra_1'; format = 'D'\n",
      "    name = 'objdec_1'; format = 'D'\n",
      "    name = 'ifuglon'; format = 'D'\n",
      "    name = 'ifuglat'; format = 'D'\n",
      "    name = 'ifura'; format = 'D'\n",
      "    name = 'ifudec'; format = 'D'\n",
      "    name = 'ebvgal_1'; format = 'D'\n",
      "    name = 'nexp_1'; format = 'K'; null = -9223372036854775808\n",
      "    name = 'exptime_1'; format = 'D'\n",
      "    name = 'drp3qual_1'; format = 'K'; null = -9223372036854775808\n",
      "    name = 'bluesn2_1'; format = 'D'\n",
      "    name = 'redsn2_1'; format = 'D'\n",
      "    name = 'harname_1'; format = '53A'\n",
      "    name = 'frlplug_1'; format = 'K'; null = -9223372036854775808\n",
      "    name = 'cartid_1'; format = '32A'\n",
      "    name = 'designid_1'; format = 'K'; null = -9223372036854775808\n",
      "    name = 'cenra_1'; format = 'D'\n",
      "    name = 'cendec_1'; format = 'D'\n",
      "    name = 'airmsmin_1'; format = 'D'\n",
      "    name = 'airmsmed_1'; format = 'D'\n",
      "    name = 'airmsmax_1'; format = 'D'\n",
      "    name = 'seemin_1'; format = 'D'\n",
      "    name = 'seemed_1'; format = 'D'\n",
      "    name = 'seemax_1'; format = 'D'\n",
      "    name = 'transmin_1'; format = 'D'\n",
      "    name = 'transmed_1'; format = 'D'\n",
      "    name = 'transmax_1'; format = 'D'\n",
      "    name = 'mjdmin_1'; format = 'K'; null = -9223372036854775808\n",
      "    name = 'mjdmed_1'; format = 'K'; null = -9223372036854775808\n",
      "    name = 'mjdmax_1'; format = 'K'; null = -9223372036854775808\n",
      "    name = 'gfwhm_1'; format = 'D'\n",
      "    name = 'rfwhm_1'; format = 'D'\n",
      "    name = 'ifwhm_1'; format = 'D'\n",
      "    name = 'zfwhm_1'; format = 'D'\n",
      "    name = 'mngtarg1_1'; format = 'K'; null = -9223372036854775808\n",
      "    name = 'mngtarg2_1'; format = 'K'; null = -9223372036854775808\n",
      "    name = 'mngtarg3_1'; format = 'K'; null = -9223372036854775808\n",
      "    name = 'catidnum_1'; format = 'K'; null = -9223372036854775808\n",
      "    name = 'plttarg_1'; format = '32A'\n",
      "    name = 'manga_tileid_1'; format = 'K'; null = -9223372036854775808\n",
      "    name = 'nsa_iauname_1'; format = '19A'\n",
      "    name = 'ifudesignsize_1'; format = 'K'; null = -9223372036854775808\n",
      "    name = 'ifutargetsize_1'; format = 'K'; null = -9223372036854775808\n",
      "    name = 'ifudesignwrongsize_1'; format = 'K'; null = -9223372036854775808\n",
      "    name = 'z'; format = 'D'\n",
      "    name = 'zmin_1'; format = 'D'\n",
      "    name = 'zmax_1'; format = 'D'\n",
      "    name = 'szmin_1'; format = 'D'\n",
      "    name = 'szmax_1'; format = 'D'\n",
      "    name = 'ezmin_1'; format = 'D'\n",
      "    name = 'ezmax_1'; format = 'D'\n",
      "    name = 'probs_1'; format = 'D'\n",
      "    name = 'pweight_1'; format = 'D'\n",
      "    name = 'psweight_1'; format = 'D'\n",
      "    name = 'psrweight_1'; format = 'D'\n",
      "    name = 'sweight_1'; format = 'D'\n",
      "    name = 'srweight_1'; format = 'D'\n",
      "    name = 'eweight_1'; format = 'D'\n",
      "    name = 'esweight_1'; format = 'D'\n",
      "    name = 'esrweight_1'; format = 'D'\n",
      "    name = 'nsa_field_1'; format = 'K'; null = -9223372036854775808\n",
      "    name = 'nsa_run_1'; format = 'K'; null = -9223372036854775808\n",
      "    name = 'nsa_camcol_1'; format = 'K'; null = -9223372036854775808\n",
      "    name = 'nsa_version_1'; format = '6A'\n",
      "    name = 'nsa_nsaid_1'; format = 'K'; null = -9223372036854775808\n",
      "    name = 'nsa_nsaid_v1b_1'; format = 'K'; null = -9223372036854775808\n",
      "    name = 'nsa_z'; format = 'D'\n",
      "    name = 'nsa_zdist'; format = 'D'\n",
      "    name = 'nsa_sersic_absmag_1'; format = '7D'\n",
      "    name = 'nsa_elpetro_absmag_1'; format = '7D'\n",
      "    name = 'nsa_elpetro_amivar_1'; format = '7D'\n",
      "    name = 'nsa_sersic_mass_1'; format = 'D'\n",
      "    name = 'nsa_elpetro_mass'; format = 'D'\n",
      "    name = 'nsa_elpetro_ba_1'; format = 'D'\n",
      "    name = 'nsa_elpetro_phi_1'; format = 'D'\n",
      "    name = 'nsa_extinction_1'; format = '7D'\n",
      "    name = 'nsa_elpetro_th50_r_1'; format = 'D'\n",
      "    name = 'nsa_petro_th50_1'; format = 'D'\n",
      "    name = 'nsa_petro_flux_1'; format = '7D'\n",
      "    name = 'nsa_petro_flux_ivar_1'; format = '7D'\n",
      "    name = 'nsa_elpetro_flux_1'; format = '7D'\n",
      "    name = 'nsa_elpetro_flux_ivar_1'; format = '7D'\n",
      "    name = 'nsa_sersic_ba_1'; format = 'D'\n",
      "    name = 'nsa_sersic_n_1'; format = 'D'\n",
      "    name = 'nsa_sersic_phi_1'; format = 'D'\n",
      "    name = 'nsa_sersic_th50_1'; format = 'D'\n",
      "    name = 'nsa_sersic_flux_1'; format = '7D'\n",
      "    name = 'nsa_sersic_flux_ivar_1'; format = '7D'\n",
      "    name = 'VOPT_1'; format = 'E'\n",
      "    name = 'SESSION_1'; format = '79A'\n",
      "    name = 'EXP_1'; format = 'E'\n",
      "    name = 'RMS_1'; format = 'E'\n",
      "    name = 'LOGHILIM200KMS'; format = 'E'\n",
      "    name = 'PEAK_1'; format = 'E'\n",
      "    name = 'SNR_1'; format = 'E'\n",
      "    name = 'FHI'; format = 'E'\n",
      "    name = 'EFHI'; format = 'E'\n",
      "    name = 'LOGMHI'; format = 'E'\n",
      "    name = 'VHI'; format = 'E'\n",
      "    name = 'EV_1'; format = 'E'\n",
      "    name = 'WM50_1'; format = 'E'\n",
      "    name = 'WP50_1'; format = 'E'\n",
      "    name = 'WP20_1'; format = 'E'\n",
      "    name = 'W2P50_1'; format = 'E'\n",
      "    name = 'WF50_1'; format = 'E'\n",
      "    name = 'PR_1'; format = 'E'\n",
      "    name = 'PL_1'; format = 'E'\n",
      "    name = 'AR_1'; format = 'E'\n",
      "    name = 'BR_1'; format = 'E'\n",
      "    name = 'AL_1'; format = 'E'\n",
      "    name = 'BL_1'; format = 'E'\n",
      "    name = 'NUV_r'; format = 'D'\n",
      ")\n"
     ]
    }
   ],
   "source": [
    "#drpall+HI file with ALL samples (50 RG and 691 controls) spectra info\n",
    "hdul = fits.open('drpandHI_121by741.fits')\n",
    "hdul.info()\n",
    "hdu = hdul[1]\n",
    "hdr = hdul[0].header \n",
    "hdr = hdul[1].header\n",
    "data = hdu.data\n",
    "cols = data.columns\n",
    "hdul.close()\n",
    "print(cols)"
   ]
  },
  {
   "cell_type": "code",
   "execution_count": 5,
   "metadata": {},
   "outputs": [
    {
     "name": "stdout",
     "output_type": "stream",
     "text": [
      "Filename: mangaHI-8243-3701-Copy1.fits\n",
      "No.    Name      Ver    Type      Cards   Dimensions   Format\n",
      "  0  PRIMARY       1 PrimaryHDU       4   ()      \n",
      "  1                1 BinTableHDU     39   1R x 3C   [940E, 940E, 940E]   \n",
      "XTENSION= 'BINTABLE'           /Written by IDL:  Wed Mar 28 16:48:38 2018       BITPIX  =                    8 /                                                NAXIS   =                    2 /Binary table                                    NAXIS1  =                11280 /Number of bytes per row                         NAXIS2  =                    1 /Number of rows                                  PCOUNT  =                    0 /Random parameter count                          GCOUNT  =                    1 /Group count                                     TFIELDS =                    3 /Number of columns                               COMMENT                                                                         COMMENT  *** End of mandatory fields ***                                        COMMENT                                                                         TELESCOP= 'Robert C. Bryd Green Bank Telescope' / Telescope                     BEAM_FWH=              9.00000 / Beam Size                                      OBJECT  = '8243-3701'          / Object (MaNGA plate-ifu format)                RA_DEC  = '08 32 39.5  +53 14 00' / RA Dec (J2000)                              RESTFRQ =              1420.41 / Rest Frequency [MHz]                           OBJ_VEL =              12914.9 / Central velocity [km/s]                        TINT    =              897.300 / Integration time [seconds] is                  DATE    = '2016-04-21'         / Date(s) of observations (UT)                   COMMENT                                                                         COMMENT  *** Column names ***                                                   COMMENT                                                                         TTYPE1  = 'VHI     '           /                                                TTYPE2  = 'FHI     '           /                                                TTYPE3  = 'BHI     '           /                                                COMMENT                                                                         COMMENT  *** Column formats ***                                                 COMMENT                                                                         TFORM1  = '940E    '           /                                                TFORM2  = '940E    '           /                                                TFORM3  = '940E    '           /                                                COMMENT  HI-MaNGA: HI Followup for the MaNGA Survey                             COMMENT  Observed under code: AGBT16A_095                                       COMMENT  Masters, K.L. et al. in prep.                                          COMMENT  ASCII Table                                                            COMMENT  Generated by HI-MaNGA Team  Sun Mar 18 21:23:52 2018                   COMMENT  The spectrum is baselined and Hanning smoothed                         COMMENT  Columns are: Velocity of HI (km/s), Flux (Jy), Pre-baseline subtracted COMMENT  vHI,fHI,fBHI                                                           END                                                                                                                                                                                                                                                                                                                                                                                                                                                                                                                                                                                                                                                                                                                                                                                                                                                                                                                                                                                                                                                                                                                                                                                                                                                                                                                                                                                                                                                                                                                                                                                                                                                                                                                                                                                                                                                                                                                                                                                                                                                                                                                                                                                                                                                                                                                                                                                                                                                                                                                                                                                                                                                                                                                                             \n"
     ]
    }
   ],
   "source": [
    "#random galaxy sample #FIGURE OUT WHAT SAMPLE THIS IS FROM SO THAT I CAN NOTE IT\n",
    "hdulr = fits.open('mangaHI-8243-3701-Copy1.fits')\n",
    "hdulr.info()\n",
    "hdur = hdulr[1]\n",
    "hdrr = hdulr[0].header \n",
    "hdrr = hdulr[1].header\n",
    "datar = hdur.data\n",
    "colsr = datar.columns\n",
    "hdulr.close()\n",
    "print(hdrr)"
   ]
  },
  {
   "cell_type": "code",
   "execution_count": 6,
   "metadata": {},
   "outputs": [
    {
     "name": "stdout",
     "output_type": "stream",
     "text": [
      "741\n"
     ]
    }
   ],
   "source": [
    "#red geyser (50) + control (691) samples\n",
    "drip_location = os.path.join('/Users/Frank/KNAC_Internship/ALL_samples_spectra', '*.fits')\n",
    "drip_names = glob.glob(drip_location)\n",
    "print(len(drip_names))"
   ]
  },
  {
   "cell_type": "code",
   "execution_count": 7,
   "metadata": {},
   "outputs": [
    {
     "name": "stdout",
     "output_type": "stream",
     "text": [
      "50\n",
      "691\n"
     ]
    }
   ],
   "source": [
    "geys_location = os.path.join('/Users/Frank/KNAC_Internship/geyser_sample_spectra', '*.fits')\n",
    "geys_names = glob.glob(geys_location)\n",
    "print(len(geys_names))\n",
    "\n",
    "cont_location = os.path.join('/Users/Frank/KNAC_Internship/control_sample_spectra', '*.fits')\n",
    "cont_names = glob.glob(cont_location)\n",
    "print(len(cont_names))"
   ]
  },
  {
   "cell_type": "code",
   "execution_count": 8,
   "metadata": {},
   "outputs": [],
   "source": [
    "def read_spec(filnam): \n",
    "    sp = fits.open(filnam)\n",
    "    s = sp[1]\n",
    "    datat = s.data\n",
    "    header = sp[1].header #; can use to pull out header data later if I want\n",
    "    \n",
    "    galv = header['OBJ_VEL']\n",
    "    \n",
    "    flux = datat['FHI']\n",
    "    \n",
    "    vel = datat['VHI']\n",
    "    \n",
    "    corrected_vel = vel-galv\n",
    "    \n",
    "    sp.close()\n",
    "    \n",
    "    return vel, flux, galv, corrected_vel"
   ]
  },
  {
   "cell_type": "markdown",
   "metadata": {},
   "source": [
    "## Acquiring/ calculating/ isolating values into arrays so that I can put them in the table"
   ]
  },
  {
   "cell_type": "code",
   "execution_count": 9,
   "metadata": {},
   "outputs": [
    {
     "name": "stdout",
     "output_type": "stream",
     "text": [
      "741\n"
     ]
    }
   ],
   "source": [
    "#running this loop/function here specifically to get galv to log in table\n",
    "allgalv_list1 = []\n",
    "for f in drip_names: #goes through and pulls out VHI and FHI and galaxy velocity\n",
    "    vel, flux, galv, corrected_vel = read_spec(f)\n",
    "    allgalv_list1.append(galv)\n",
    "    \n",
    "allgalv_arr1 = np.array(allgalv_list1)\n",
    "print(len(allgalv_arr1))"
   ]
  },
  {
   "cell_type": "code",
   "execution_count": 10,
   "metadata": {},
   "outputs": [],
   "source": [
    "#distance calculation using hubble law\n",
    "dist_h=allgalv_arr1/70"
   ]
  },
  {
   "cell_type": "code",
   "execution_count": 11,
   "metadata": {},
   "outputs": [
    {
     "name": "stdout",
     "output_type": "stream",
     "text": [
      "741\n"
     ]
    },
    {
     "name": "stderr",
     "output_type": "stream",
     "text": [
      "/Applications/anaconda3/lib/python3.7/site-packages/ipykernel_launcher.py:2: RuntimeWarning: invalid value encountered in greater\n",
      "  \n"
     ]
    }
   ],
   "source": [
    "#mask for detection\n",
    "sel = (data['LOGMHI'] > -999) \n",
    "sel = np.multiply(sel, 1)\n",
    "print(len(sel))"
   ]
  },
  {
   "cell_type": "code",
   "execution_count": 12,
   "metadata": {},
   "outputs": [],
   "source": [
    "#mask for geyser sample\n",
    "def title(y): #this isolates the plateifu in the spectra file name\n",
    "    title0 = (os.path.splitext(y)[0])\n",
    "    base=os.path.basename(y)\n",
    "    title1 = os.path.splitext(base)[0]\n",
    "    titlep = title1.replace('mangaHI-', '') #titlep is plateifu\n",
    "    return titlep\n",
    "\n",
    "#want to go through geyser spectra files, find the ones that exist in data\n",
    "#create a list/array with these names\n",
    "#write if then code (maybe?) to create a new list-- 1 if red geyser, 0 if control\n",
    "rg_name = []\n",
    "sample_tester2 = []\n",
    "for f in geys_names:\n",
    "    name = title(f)\n",
    "    if name in data['plateifu_1']:\n",
    "        rg_name.append(name)\n",
    "#print(rg_name)\n",
    "\n",
    "for f in data['plateifu_1']:\n",
    "    if f in rg_name:\n",
    "        sample_tester2.append(1)\n",
    "    else:\n",
    "        sample_tester2.append(0)\n",
    "        \n",
    "#print(sample_tester2)"
   ]
  },
  {
   "cell_type": "code",
   "execution_count": 17,
   "metadata": {},
   "outputs": [],
   "source": [
    "#make master table\n",
    "table = Table()\n",
    "table['Plate-IFU'] = data['plateifu_1']\n",
    "table['M*'] = data['nsa_elpetro_mass']\n",
    "table['Galaxy Velocity [km/s]'] = allgalv_arr1\n",
    "table['Distance [Mpc]'] = dist_h\n",
    "table['Distance Weight for Scaling Flux []'] = (2.36e5*((dist_h)**2))/(data['nsa_elpetro_mass'])\n",
    "table['Detection (0=non)'] = sel\n",
    "table['Red Geyser(1) or Control(0)'] = sample_tester2\n",
    "table['RMS'] = data['RMS_1']\n",
    "table['RMS Weight for Scaling Flux [Jy]'] = 1/(((data['RMS_1'])/1000)**2) #converted mJy to Jy\n",
    "#what survey its from\n",
    "#what sample its from i.e. file name of data from Dave specifically\n",
    "#if red geyser, Na D absorption?\n",
    "ascii.write(table, output = 'Master-Table-1.csv', format = 'csv', overwrite = True)"
   ]
  },
  {
   "cell_type": "code",
   "execution_count": null,
   "metadata": {},
   "outputs": [],
   "source": []
  }
 ],
 "metadata": {
  "kernelspec": {
   "display_name": "Python 3",
   "language": "python",
   "name": "python3"
  },
  "language_info": {
   "codemirror_mode": {
    "name": "ipython",
    "version": 3
   },
   "file_extension": ".py",
   "mimetype": "text/x-python",
   "name": "python",
   "nbconvert_exporter": "python",
   "pygments_lexer": "ipython3",
   "version": "3.7.7"
  }
 },
 "nbformat": 4,
 "nbformat_minor": 4
}
